{
 "cells": [
  {
   "cell_type": "markdown",
   "id": "fb0b0fd6",
   "metadata": {},
   "source": [
    "1. What is the primary goal of Object-Oriented Programming (OOP)?\n",
    "A.The primary goal of Object-Oriented Programming (OOP) is to provide a programming paradigm that allows for the organization, modeling, and abstraction of complex systems through the use of objects. OOP aims to represent real-world entities or concepts as software objects that encapsulate both data (attributes) and behavior (methods or functions) related to those entities or concepts.\n",
    "\n",
    "The key objectives of OOP include:\n",
    "\n",
    "1.Modularity: OOP promotes modular design by encapsulating related data and behavior into objects, making it easier to manage and maintain large codebases. Objects can be developed and tested independently, and they can be reused in different parts of the program or in other programs.\n",
    "\n",
    "2.Abstraction: OOP allows developers to create abstract representations of real-world entities or concepts by defining classes that serve as blueprints for creating objects. Through abstraction, complex systems can be broken down into manageable and understandable components.\n",
    "\n",
    "3.Encapsulation: Encapsulation is the process of bundling data and methods within an object, such that the internal details and implementation are hidden from the outside world. This provides data security and prevents direct access to an object's internal state, allowing for better control over the system's behavior.\n",
    "\n",
    "4.Inheritance: Inheritance enables the creation of hierarchical relationships between classes, where a child class can inherit properties and behaviors from a parent class. It promotes code reuse and facilitates the creation of specialized classes that inherit common attributes and methods from more general classes.\n",
    "\n",
    "5.Polymorphism: Polymorphism allows objects of different classes to be treated as objects of a common superclass, providing a way to write more generic code that can work with objects of multiple types. Polymorphism enhances flexibility and extensibility by enabling methods to be overridden in derived classes while still maintaining a common interface.\n",
    "\n",
    "Overall, the primary goal of OOP is to enhance software development by improving code organization, reusability, maintainability, and extensibility through the use of objects, classes, and their relationships.\n",
    "\n",
    "2. What is an object in Python?\n",
    "A.In Python, an object is a fundamental concept of object-oriented programming (OOP). It is a runtime instance of a class, which is a blueprint or template defining the structure and behavior of objects.\n",
    "\n",
    "An object in Python consists of both data (attributes or properties) and functions (methods) that operate on that data. The attributes represent the state or characteristics of the object, while the methods define the behavior or actions that the object can perform.\n",
    "\n",
    "Objects are created from classes using a process called instantiation. When an object is instantiated, memory is allocated to store its data, and it is initialized with the values defined by the class's constructor method (often called __init__() in Python). Each object can have its own unique state, independent of other objects created from the same class.\n",
    "\n",
    "Here's a simple example of creating an object in Python:"
   ]
  },
  {
   "cell_type": "code",
   "execution_count": 1,
   "id": "eb447b39",
   "metadata": {},
   "outputs": [
    {
     "name": "stdout",
     "output_type": "stream",
     "text": [
      "Meghana\n",
      "22\n",
      "Hello, my name is Meghana and I am 22 years old.\n"
     ]
    }
   ],
   "source": [
    "class Person:\n",
    "    def __init__(self, name, age):\n",
    "        self.name = name\n",
    "        self.age = age\n",
    "\n",
    "    def say_hello(self):\n",
    "        print(f\"Hello, my name is {self.name} and I am {self.age} years old.\")\n",
    "\n",
    "# Creating an object (instance) of the Person class\n",
    "person1 = Person(\"Meghana\", 22)\n",
    "\n",
    "# Accessing object attributes\n",
    "print(person1.name)  \n",
    "print(person1.age) \n",
    "\n",
    "# Calling object methods\n",
    "person1.say_hello()  \n"
   ]
  },
  {
   "cell_type": "markdown",
   "id": "b3fe09b2",
   "metadata": {},
   "source": [
    "In the example above, the Person class represents a blueprint for creating person objects. The __init__() method is the constructor that initializes the name and age attributes of the object. The say_hello() method is a behavior of the object that prints a greeting using its attributes.\n",
    "\n",
    "By creating objects, you can model and manipulate real-world entities or concepts in your Python programs, each with its own state and behavior."
   ]
  },
  {
   "cell_type": "markdown",
   "id": "55fb1be3",
   "metadata": {},
   "source": [
    "3. What is a class in Python?\n",
    "A.In Python, a class is a blueprint or template that defines the structure and behavior of objects. It serves as a blueprint for creating multiple objects with similar characteristics and functionalities.\n",
    "\n",
    "A class encapsulates data (attributes) and functions (methods) that operate on that data. The attributes represent the state or characteristics of objects, while the methods define the behavior or actions that objects can perform. Classes provide a way to define reusable and organized code, promoting modularity and code reusability.\n",
    "\n",
    "Here's an example of a simple class in Python:"
   ]
  },
  {
   "cell_type": "code",
   "execution_count": 4,
   "id": "bec9f425",
   "metadata": {},
   "outputs": [],
   "source": [
    "class Person:\n",
    "    def __init__(self, name, age):\n",
    "        self.name = name\n",
    "        self.age = age\n",
    "\n",
    "    def say_hello(self):\n",
    "        print(f\"Hello, my name is {self.name} and I am {self.age} years old.\")\n"
   ]
  },
  {
   "cell_type": "markdown",
   "id": "6bce8c5e",
   "metadata": {},
   "source": [
    "In the example above, the Person class is defined with two methods: __init__() and say_hello(). The __init__() method is a special method known as the constructor, which is called when an object is created from the class. It initializes the name and age attributes of the object using the provided arguments.\n",
    "\n",
    "The say_hello() method is a behavior of the Person objects. It takes no arguments (apart from the implicit self parameter) and prints a greeting message using the object's attributes.\n",
    "\n",
    "To create an object (instance) of the Person class, you can simply call the class as if it were a function, passing the required arguments:"
   ]
  },
  {
   "cell_type": "code",
   "execution_count": null,
   "id": "f93f48fc",
   "metadata": {},
   "outputs": [],
   "source": [
    "person1 = Person(\"Meghana\", 22)"
   ]
  },
  {
   "cell_type": "markdown",
   "id": "891dbc82",
   "metadata": {},
   "source": [
    "In this case, person1 becomes an object of the Person class, with its own name and age attributes. You can access the attributes and call the methods of the object using the dot notation:"
   ]
  },
  {
   "cell_type": "code",
   "execution_count": 5,
   "id": "f0655908",
   "metadata": {},
   "outputs": [
    {
     "name": "stdout",
     "output_type": "stream",
     "text": [
      "Meghana\n",
      "22\n",
      "Hello, my name is Meghana and I am 22 years old.\n"
     ]
    }
   ],
   "source": [
    "print(person1.name)  \n",
    "print(person1.age)   \n",
    "person1.say_hello()"
   ]
  },
  {
   "cell_type": "markdown",
   "id": "66f0e7d8",
   "metadata": {},
   "source": [
    "By creating multiple objects from the same class, you can have separate instances with their own unique state and behavior, based on the class's definition."
   ]
  },
  {
   "cell_type": "markdown",
   "id": "e162c27d",
   "metadata": {},
   "source": [
    "4. What are attributes and methods in a class?\n",
    "A.In a class, attributes and methods are the two main components that define the behavior and characteristics of objects created from that class.\n",
    "\n",
    "Attributes:\n",
    "Attributes, also known as properties or instance variables, represent the state or characteristics of an object. They store data associated with each individual object created from the class. Attributes can be any Python data type, such as integers, strings, lists, or even other objects.\n",
    "\n",
    "Attributes are defined within the class and are accessed using the dot notation on individual objects. Each object has its own set of attribute values, independent of other objects created from the same class. Attributes can be assigned initial values in the class's constructor method (__init__()), or they can be dynamically added or modified at any point in the object's lifetime.\n",
    "\n",
    "Here's an example of a class with attributes:class Person:\n",
    "\n",
    "    def __init__(self, name, age):\n",
    "        self.name = name\n",
    "        self.age = age\n",
    "        \n",
    "In the Person class, name and age are attributes. They are assigned values based on the arguments passed to the constructor method (__init__()). When an object of the Person class is created, it will have its own name and age attributes that can be accessed and modified.\n",
    "\n",
    "Methods:\n",
    "Methods define the behavior or actions that objects can perform. They are functions defined within the class and operate on the attributes of individual objects. Methods can manipulate the object's state, access its attributes, or perform any other desired functionality.\n",
    "\n",
    "Methods are defined within the class using regular Python function syntax, and they always have the first parameter named self, which represents the instance of the object itself. This self parameter is used to access the object's attributes and call other methods within the class.\n",
    "\n",
    "Here's an example of a class with methods:\n",
    "\n",
    "class Person:\n",
    "    def __init__(self, name, age):\n",
    "        self.name = name\n",
    "        self.age = age\n",
    "\n",
    "    def say_hello(self):\n",
    "        print(f\"Hello, my name is {self.name} and I am {self.age} years old.\")\n",
    "        \n",
    "In the Person class, say_hello() is a method that prints a greeting using the object's name and age attributes. It takes the self parameter, allowing it to access the attributes of the object on which the method is called.\n",
    "\n",
    "To call a method on an object, you use the dot notation:\n",
    "\n",
    "person1 = Person(\"Meghana\", 22)\n",
    "person1.say_hello()  # Output: Hello, my name is Meghana and I am 22 years old.\n",
    "\n",
    "In this example, the say_hello() method is called on the person1 object, and it prints the appropriate greeting using the object's attribute values.\n",
    "\n",
    "In summary, attributes represent the state of an object, while methods define the behavior and actions that objects can perform. Attributes store data specific to each object, while methods manipulate that data or perform other operations using the object's attributes."
   ]
  },
  {
   "cell_type": "markdown",
   "id": "c41090b4",
   "metadata": {},
   "source": [
    "5. What is the difference between class variables and instance variables in Python?\n",
    "A.In Python, class variables and instance variables are two types of variables that can be defined within a class. They differ in terms of their scope, access, and how they are shared among objects of the class.\n",
    "\n",
    "1.Class Variables:\n",
    "\n",
    ":Class variables are variables that are defined at the class level and are shared among all instances (objects) of that class.\n",
    ":They are declared outside of any method within the class, usually at the beginning of the class definition.\n",
    ":Class variables are accessed using the class name itself or through any instance of the class.\n",
    ":Modifying the value of a class variable affects all instances of the class.\n",
    ":Class variables are useful when you want to maintain a common value or state shared by all objects of the class.\n",
    "Here's an example:"
   ]
  },
  {
   "cell_type": "code",
   "execution_count": 6,
   "id": "6eb43ab0",
   "metadata": {},
   "outputs": [],
   "source": [
    "class Circle:\n",
    "    pi = 3.14159  # Class variable\n",
    "\n",
    "    def __init__(self, radius):\n",
    "        self.radius = radius  # Instance variable"
   ]
  },
  {
   "cell_type": "markdown",
   "id": "6d6adc73",
   "metadata": {},
   "source": [
    "2.Instance Variables:\n",
    "\n",
    "Instance variables are variables that belong to individual :instances (objects) of a class. Each object maintains its own copy of instance variables.\n",
    ":They are defined within the methods of a class, typically within the constructor method (__init__()), using the self keyword.\n",
    ":Instance variables are accessed and modified using the self keyword followed by the variable name.\n",
    ":Each instance of the class can have different values for its instance variables.\n",
    ":Instance variables allow objects to have their own unique state or characteristics.\n",
    "Here's an example:"
   ]
  },
  {
   "cell_type": "code",
   "execution_count": 8,
   "id": "db5afb0c",
   "metadata": {},
   "outputs": [],
   "source": [
    "class Circle:\n",
    "    def __init__(self, radius):\n",
    "        self.radius = radius  # Instance variable\n",
    "\n",
    "    def calculate_area(self):\n",
    "        area = 3.14159 * self.radius * self.radius\n",
    "        return area"
   ]
  },
  {
   "cell_type": "markdown",
   "id": "2f8d7f34",
   "metadata": {},
   "source": [
    "In the Circle class, radius is an instance variable. Each instance of the class will have its own radius value, which can be accessed and modified independently.\n",
    "\n",
    "To summarize, the main differences between class variables and instance variables in Python are related to their scope and how they are shared among objects. Class variables are shared among all instances of a class and are declared at the class level, while instance variables belong to individual instances and are defined within the methods of the class using the self keyword."
   ]
  },
  {
   "cell_type": "markdown",
   "id": "39e1744f",
   "metadata": {},
   "source": [
    "6. What is the purpose of the self parameter in Python class methods?\n",
    "A.In Python, the self parameter is a convention used in class methods to refer to the instance (object) on which a method is called. It is the first parameter of a class method and allows the method to access and manipulate the attributes and other methods of the object.\n",
    "\n",
    "The purpose of the self parameter can be understood as follows:\n",
    "\n",
    "1.Instance Access: By convention, the first parameter of a class method is named self. When a method is called on an object, the object itself is automatically passed as the self argument to the method. This allows the method to access and operate on the specific attributes and methods of that particular object.\n",
    "\n",
    "2.Attribute Access: The self parameter provides a way to access instance variables (attributes) within the class methods. By using self.attribute_name, the method can retrieve the value of an attribute specific to the object on which the method is called. It allows methods to interact with the object's state.\n",
    "\n",
    "3.Method Invocation: With self, a method can call other methods within the class. This is achieved by using the dot notation: self.method_name(). It enables one method to utilize the behavior defined in another method of the same object.\n",
    "\n",
    "Here's an example to illustrate the usage of the self parameter in a class method"
   ]
  },
  {
   "cell_type": "code",
   "execution_count": 9,
   "id": "118013be",
   "metadata": {},
   "outputs": [],
   "source": [
    "class Circle:\n",
    "    def __init__(self, radius):\n",
    "        self.radius = radius\n",
    "\n",
    "    def calculate_area(self):\n",
    "        area = 3.14159 * self.radius * self.radius\n",
    "        return area"
   ]
  },
  {
   "cell_type": "markdown",
   "id": "0b4123ba",
   "metadata": {},
   "source": [
    "In the Circle class, the calculate_area() method uses the self parameter to access the radius instance variable of the object on which it is called. The method calculates and returns the area based on the object's radius value.\n",
    "\n",
    "When invoking the method on a Circle object, the self parameter is automatically passed and represents that specific object. For example:"
   ]
  },
  {
   "cell_type": "code",
   "execution_count": 10,
   "id": "d2876387",
   "metadata": {},
   "outputs": [
    {
     "name": "stdout",
     "output_type": "stream",
     "text": [
      "78.53975\n"
     ]
    }
   ],
   "source": [
    "circle1 = Circle(5)\n",
    "area1 = circle1.calculate_area()\n",
    "print(area1) "
   ]
  },
  {
   "cell_type": "markdown",
   "id": "0c20bbbd",
   "metadata": {},
   "source": [
    "In this case, circle1.calculate_area() is called, and self inside the calculate_area() method refers to circle1, allowing the method to access circle1's radius attribute.\n",
    "\n",
    "In summary, the self parameter in Python class methods serves as a reference to the instance (object) on which a method is called. It provides access to the object's attributes and methods, allowing the method to operate on the specific instance and its state."
   ]
  },
  {
   "cell_type": "markdown",
   "id": "78c68ded",
   "metadata": {},
   "source": [
    "7. For a library management system, you have to design the \"Book\" class with OOP\n",
    "principles in mind. The “Book” class will have following attributes:\n",
    "a. title: Represents the title of the book.\n",
    "b. author: Represents the author(s) of the book.\n",
    "c. isbn: Represents the ISBN (International Standard Book Number) of the book.\n",
    "d. publication_year: Represents the year of publication of the book.\n",
    "e. available_copies: Represents the number of copies available for checkout.\n",
    "The class will also include the following methods:\n",
    "a. check_out(self): Decrements the available copies by one if there are copies\n",
    "available for checkout.\n",
    "b. return_book(self): Increments the available copies by one when a book is\n",
    "returned.\n",
    "c. display_book_info(self): Displays the information about the book, including its attributes and the number of available copies."
   ]
  },
  {
   "cell_type": "code",
   "execution_count": 13,
   "id": "1bc4e73e",
   "metadata": {},
   "outputs": [
    {
     "name": "stdout",
     "output_type": "stream",
     "text": [
      "Book Information:\n",
      "Title: The Catcher in the Rye\n",
      "Author(s): J.D. Salinger\n",
      "ISBN: 9780316769174\n",
      "Publication Year: 1951\n",
      "Available Copies: 4\n",
      "Book 'The Catcher in the Rye' checked out successfully.\n",
      "Book Information:\n",
      "Title: The Catcher in the Rye\n",
      "Author(s): J.D. Salinger\n",
      "ISBN: 9780316769174\n",
      "Publication Year: 1951\n",
      "Available Copies: 3\n",
      "Book 'The Catcher in the Rye' returned successfully.\n",
      "Book Information:\n",
      "Title: The Catcher in the Rye\n",
      "Author(s): J.D. Salinger\n",
      "ISBN: 9780316769174\n",
      "Publication Year: 1951\n",
      "Available Copies: 4\n"
     ]
    }
   ],
   "source": [
    "#ans\n",
    "class Book:\n",
    "    def __init__(self, title, author, isbn, publication_year, available_copies):\n",
    "        self.title = title\n",
    "        self.author = author\n",
    "        self.isbn = isbn\n",
    "        self.publication_year = publication_year\n",
    "        self.available_copies = available_copies\n",
    "\n",
    "    def check_out(self):\n",
    "        if self.available_copies > 0:\n",
    "            self.available_copies -= 1\n",
    "            print(f\"Book '{self.title}' checked out successfully.\")\n",
    "        else:\n",
    "            print(f\"Book '{self.title}' is currently not available for checkout.\")\n",
    "\n",
    "    def return_book(self):\n",
    "        self.available_copies += 1\n",
    "        print(f\"Book '{self.title}' returned successfully.\")\n",
    "\n",
    "    def display_book_info(self):\n",
    "        print(\"Book Information:\")\n",
    "        print(f\"Title: {self.title}\")\n",
    "        print(f\"Author(s): {self.author}\")\n",
    "        print(f\"ISBN: {self.isbn}\")\n",
    "        print(f\"Publication Year: {self.publication_year}\")\n",
    "        print(f\"Available Copies: {self.available_copies}\")\n",
    "\n",
    "\n",
    "# Example usage:\n",
    "book1 = Book(\"The Catcher in the Rye\", \"J.D. Salinger\", \"9780316769174\", 1951, 4)\n",
    "book1.display_book_info()  # Display initial book information\n",
    "book1.check_out()  # Check out a book\n",
    "book1.display_book_info()  # Display updated book information\n",
    "book1.return_book()  # Return the book\n",
    "book1.display_book_info()  # Display updated book information\n"
   ]
  },
  {
   "cell_type": "markdown",
   "id": "4fa9b8bb",
   "metadata": {},
   "source": [
    "In the above code, the Book class is defined with the required attributes: title, author, isbn, publication_year, and available_copies. The constructor method __init__() is used to initialize these attributes when creating a new instance of the class.\n",
    "\n",
    "The class also includes three methods as requested:\n",
    "\n",
    "check_out(): This method checks if there are available copies of the book and decrements the available_copies attribute if there are. It provides appropriate feedback based on the availability.\n",
    "\n",
    "return_book(): This method increments the available_copies attribute by one when a book is returned.\n",
    "\n",
    "display_book_info(): This method displays the information about the book, including all its attributes, using the print() function.\n",
    "\n",
    "The example demonstrates the usage of the class by creating an instance (book1) and calling the methods to perform book checkout, return, and display operations."
   ]
  },
  {
   "cell_type": "markdown",
   "id": "0b9ddf38",
   "metadata": {},
   "source": [
    "8. For a ticket booking system, you have to design the \"Ticket\" class with OOP\n",
    "principles in mind. The “Ticket” class should have the following attributes:\n",
    "a. ticket_id: Represents the unique identifier for the ticket.\n",
    "b. event_name: Represents the name of the event.\n",
    "c. event_date: Represents the date of the event.\n",
    "d. venue: Represents the venue of the event.\n",
    "e. seat_number: Represents the seat number associated with the ticket.\n",
    "f. price: Represents the price of the ticket.\n",
    "g. is_reserved: Represents the reservation status of the ticket.\n",
    "The class also includes the following methods:\n",
    "a. reserve_ticket(self): Marks the ticket as reserved if it is not already reserved.\n",
    "b. cancel_reservation(self): Cancels the reservation of the ticket if it is already\n",
    "reserved.\n",
    "c. display_ticket_info(self): Displays the information about the ticket, including its\n",
    "attributes and reservation status."
   ]
  },
  {
   "cell_type": "code",
   "execution_count": 21,
   "id": "4c0d377c",
   "metadata": {},
   "outputs": [
    {
     "name": "stdout",
     "output_type": "stream",
     "text": [
      "Ticket Information:\n",
      "Ticket ID: T123\n",
      "Event Name: Concert\n",
      "Event Date: 2023-08-15\n",
      "Venue: Music Hall\n",
      "Seat Number: A12\n",
      "Price: 100\n",
      "Reservation Status: Not Reserved\n",
      "Ticket reserved successfully.\n",
      "Ticket Information:\n",
      "Ticket ID: T123\n",
      "Event Name: Concert\n",
      "Event Date: 2023-08-15\n",
      "Venue: Music Hall\n",
      "Seat Number: A12\n",
      "Price: 100\n",
      "Reservation Status: Reserved\n",
      "Ticket reservation canceled successfully.\n",
      "Ticket Information:\n",
      "Ticket ID: T123\n",
      "Event Name: Concert\n",
      "Event Date: 2023-08-15\n",
      "Venue: Music Hall\n",
      "Seat Number: A12\n",
      "Price: 100\n",
      "Reservation Status: Not Reserved\n"
     ]
    }
   ],
   "source": [
    "#ans\n",
    "class Ticket:\n",
    "    def __init__(self, ticket_id, event_name, event_date, venue, seat_number, price):\n",
    "        self.ticket_id = ticket_id\n",
    "        self.event_name = event_name\n",
    "        self.event_date = event_date\n",
    "        self.venue = venue\n",
    "        self.seat_number = seat_number\n",
    "        self.price = price\n",
    "        self.is_reserved = False\n",
    "\n",
    "    def reserve_ticket(self):\n",
    "        if not self.is_reserved:\n",
    "            self.is_reserved = True\n",
    "            print(\"Ticket reserved successfully.\")\n",
    "        else:\n",
    "            print(\"Ticket is already reserved.\")\n",
    "\n",
    "    def cancel_reservation(self):\n",
    "        if self.is_reserved:\n",
    "            self.is_reserved = False\n",
    "            print(\"Ticket reservation canceled successfully.\")\n",
    "        else:\n",
    "            print(\"Ticket is not currently reserved.\")\n",
    "\n",
    "    def display_ticket_info(self):\n",
    "        print(\"Ticket Information:\")\n",
    "        print(f\"Ticket ID: {self.ticket_id}\")\n",
    "        print(f\"Event Name: {self.event_name}\")\n",
    "        print(f\"Event Date: {self.event_date}\")\n",
    "        print(f\"Venue: {self.venue}\")\n",
    "        print(f\"Seat Number: {self.seat_number}\")\n",
    "        print(f\"Price: {self.price}\")\n",
    "        print(f\"Reservation Status: {'Reserved' if self.is_reserved else 'Not Reserved'}\")\n",
    "\n",
    "\n",
    "# Example usage:\n",
    "ticket1 = Ticket(\"T123\", \"Concert\", \"2023-08-15\", \"Music Hall\", \"A12\", 100)\n",
    "ticket1.display_ticket_info()  # Display initial ticket information\n",
    "ticket1.reserve_ticket()  # Reserve the ticket\n",
    "ticket1.display_ticket_info()  # Display updated ticket information\n",
    "ticket1.cancel_reservation()  # Cancel the reservation\n",
    "ticket1.display_ticket_info()  # Display updated ticket information\n"
   ]
  },
  {
   "cell_type": "markdown",
   "id": "58c0e5a1",
   "metadata": {},
   "source": [
    "In the above code, the Ticket class is defined with the required attributes: ticket_id, event_name, event_date, venue, seat_number, price, and is_reserved. The constructor method __init__() is used to initialize these attributes when creating a new instance of the class.\n",
    "\n",
    "The class also includes three methods as requested:\n",
    "\n",
    "reserve_ticket(): This method checks if the ticket is already reserved and marks it as reserved if not. It provides appropriate feedback based on the reservation status.\n",
    "\n",
    "cancel_reservation(): This method checks if the ticket is already reserved and cancels the reservation if it is. It provides appropriate feedback based on the reservation status.\n",
    "\n",
    "display_ticket_info(): This method displays the information about the ticket, including all its attributes, using the print() function.\n",
    "\n",
    "The example demonstrates the usage of the class by creating an instance (ticket1) and calling the methods to perform ticket reservation, cancellation, and display operations."
   ]
  },
  {
   "cell_type": "markdown",
   "id": "45cb3ae7",
   "metadata": {},
   "source": [
    "9. You are creating a shopping cart for an e-commerce website. Using OOP to model\n",
    "the \"ShoppingCart\" functionality the class should contain following attributes and\n",
    "methods:\n",
    "a. items: Represents the list of items in the shopping cart.\n",
    "The class also includes the following methods:\n",
    "a. add_item(self, item): Adds an item to the shopping cart by appending it to the\n",
    "list of items.\n",
    "b. remove_item(self, item): Removes an item from the shopping cart if it exists in\n",
    "the list.\n",
    "c. view_cart(self): Displays the items currently present in the shopping cart.\n",
    "d. clear_cart(self): Clears all items from the shopping cart by reassigning an\n",
    "empty list to the items attribute."
   ]
  },
  {
   "cell_type": "code",
   "execution_count": 22,
   "id": "0db294a9",
   "metadata": {},
   "outputs": [
    {
     "name": "stdout",
     "output_type": "stream",
     "text": [
      "The shopping cart is empty.\n",
      "Item 'Product A' added to the shopping cart.\n",
      "Item 'Product B' added to the shopping cart.\n",
      "Items in the shopping cart:\n",
      "Product A\n",
      "Product B\n",
      "Item 'Product A' removed from the shopping cart.\n",
      "Items in the shopping cart:\n",
      "Product B\n",
      "The shopping cart is cleared.\n",
      "The shopping cart is empty.\n"
     ]
    }
   ],
   "source": [
    "#ans\n",
    "class ShoppingCart:\n",
    "    def __init__(self):\n",
    "        self.items = []\n",
    "\n",
    "    def add_item(self, item):\n",
    "        self.items.append(item)\n",
    "        print(f\"Item '{item}' added to the shopping cart.\")\n",
    "\n",
    "    def remove_item(self, item):\n",
    "        if item in self.items:\n",
    "            self.items.remove(item)\n",
    "            print(f\"Item '{item}' removed from the shopping cart.\")\n",
    "        else:\n",
    "            print(f\"Item '{item}' is not present in the shopping cart.\")\n",
    "\n",
    "    def view_cart(self):\n",
    "        if self.items:\n",
    "            print(\"Items in the shopping cart:\")\n",
    "            for item in self.items:\n",
    "                print(item)\n",
    "        else:\n",
    "            print(\"The shopping cart is empty.\")\n",
    "\n",
    "    def clear_cart(self):\n",
    "        self.items = []\n",
    "        print(\"The shopping cart is cleared.\")\n",
    "\n",
    "\n",
    "# Example usage:\n",
    "cart = ShoppingCart()\n",
    "cart.view_cart()  # Display initial cart items (empty)\n",
    "cart.add_item(\"Product A\")  # Add an item to the cart\n",
    "cart.add_item(\"Product B\")  # Add another item to the cart\n",
    "cart.view_cart()  # Display updated cart items\n",
    "cart.remove_item(\"Product A\")  # Remove an item from the cart\n",
    "cart.view_cart()  # Display updated cart items\n",
    "cart.clear_cart()  # Clear the cart\n",
    "cart.view_cart()  # Display updated cart items (empty)"
   ]
  },
  {
   "cell_type": "markdown",
   "id": "4f1bd6a3",
   "metadata": {},
   "source": [
    "In the above code, the ShoppingCart class is defined with a single attribute items, which represents the list of items in the shopping cart. The constructor method __init__() initializes the items attribute as an empty list when creating a new instance of the class.\n",
    "\n",
    "The class includes four methods as requested:\n",
    "\n",
    "add_item(): This method takes an item as an argument and appends it to the items list in the shopping cart. It provides appropriate feedback.\n",
    "\n",
    "remove_item(): This method takes an item as an argument and removes it from the items list if it exists. It provides appropriate feedback based on the item's presence.\n",
    "\n",
    "view_cart(): This method displays the items currently present in the shopping cart. It iterates over the items list and prints each item. If the cart is empty, it provides a specific message.\n",
    "\n",
    "clear_cart(): This method clears all items from the shopping cart by reassigning an empty list to the items attribute.\n",
    "\n",
    "The example demonstrates the usage of the class by creating an instance (cart) and calling the methods to add items, remove items, view the cart, and clear the cart."
   ]
  },
  {
   "cell_type": "markdown",
   "id": "2de51c27",
   "metadata": {},
   "source": [
    "10. Imagine a school management system. You have to design the \"Student\" class using\n",
    "OOP concepts.The “Student” class has the following attributes:\n",
    "a. name: Represents the name of the student.\n",
    "b. age: Represents the age of the student.\n",
    "c. grade: Represents the grade or class of the student.\n",
    "d. student_id: Represents the unique identifier for the student.\n",
    "e. attendance: Represents the attendance record of the student.\n",
    "The class should also include the following methods:\n",
    "a. update_attendance(self, date, status): Updates the attendance record of the\n",
    "student for a given date with the provided status (e.g., present or absent).\n",
    "b. get_attendance(self): Returns the attendance record of the student.\n",
    "c. get_average_attendance(self): Calculates and returns the average\n",
    "attendance percentage of the student based on their attendance record."
   ]
  },
  {
   "cell_type": "code",
   "execution_count": 27,
   "id": "ce6ca43c",
   "metadata": {},
   "outputs": [
    {
     "name": "stdout",
     "output_type": "stream",
     "text": [
      "{'2023-07-01': 'present', '2023-07-02': 'absent', '2023-07-03': 'present'}\n",
      "66.66666666666666\n"
     ]
    }
   ],
   "source": [
    "#ans\n",
    "class Student:\n",
    "    def __init__(self, name, age, grade, student_id):\n",
    "        self.name = name\n",
    "        self.age = age\n",
    "        self.grade = grade\n",
    "        self.student_id = student_id\n",
    "        self.attendance = {}\n",
    "\n",
    "    def update_attendance(self, date, status):\n",
    "        self.attendance[date] = status\n",
    "\n",
    "    def get_attendance(self):\n",
    "        return self.attendance\n",
    "\n",
    "    def get_average_attendance(self):\n",
    "        total_days = len(self.attendance)\n",
    "        if total_days == 0:\n",
    "            return 0.0\n",
    "        present_days = sum(1 for status in self.attendance.values() if status == 'present')\n",
    "        attendance_percentage = (present_days / total_days) * 100\n",
    "        return attendance_percentage\n",
    "\n",
    "\n",
    "# Example usage:\n",
    "student1 = Student(\"Alice\", 16, \"10th Grade\", \"S123\")\n",
    "student1.update_attendance(\"2023-07-01\", \"present\")\n",
    "student1.update_attendance(\"2023-07-02\", \"absent\")\n",
    "student1.update_attendance(\"2023-07-03\", \"present\")\n",
    "attendance_record = student1.get_attendance()\n",
    "print(attendance_record)  # Output: {'2023-07-01': 'present', '2023-07-02': 'absent', '2023-07-03': 'present'}\n",
    "average_attendance = student1.get_average_attendance()\n",
    "print(average_attendance)  # Output: 66.66666666666666\n"
   ]
  },
  {
   "cell_type": "markdown",
   "id": "8c03d4e2",
   "metadata": {},
   "source": [
    "In the above code, the Student class is defined with the required attributes: name, age, grade, student_id, and attendance. The constructor method __init__() is used to initialize these attributes when creating a new instance of the class. The attendance attribute is initially set as an empty dictionary.\n",
    "\n",
    "The class includes three methods as requested:\n",
    "\n",
    "update_attendance(): This method takes a date and status as arguments and updates the student's attendance record by storing the status for the given date.\n",
    "\n",
    "get_attendance(): This method returns the attendance record of the student, which is the dictionary containing dates as keys and statuses as values.\n",
    "\n",
    "get_average_attendance(): This method calculates and returns the average attendance percentage of the student based on their attendance record. It counts the number of present days and divides it by the total number of recorded days, then multiplies by 100.\n",
    "\n",
    "The example demonstrates the usage of the class by creating an instance (student1) and calling the methods to update attendance, retrieve attendance record, and calculate average attendance."
   ]
  }
 ],
 "metadata": {
  "kernelspec": {
   "display_name": "Python 3 (ipykernel)",
   "language": "python",
   "name": "python3"
  },
  "language_info": {
   "codemirror_mode": {
    "name": "ipython",
    "version": 3
   },
   "file_extension": ".py",
   "mimetype": "text/x-python",
   "name": "python",
   "nbconvert_exporter": "python",
   "pygments_lexer": "ipython3",
   "version": "3.10.9"
  }
 },
 "nbformat": 4,
 "nbformat_minor": 5
}
